{
 "cells": [
  {
   "cell_type": "markdown",
   "metadata": {},
   "source": [
    "# AdaBoost\n",
    "\n",
    "A quick reminder on how AdaBoost works: https://youtu.be/LsK-xG1cLYA BAM! Note that this video uses Gini index instead of Entropy and resamples the dataset instead of summing the error weights, but the general approach is the same as the one presented in the lecture."
   ]
  },
  {
   "cell_type": "markdown",
   "metadata": {},
   "source": [
    "Key ideas:\n",
    "* training: train multiple weak learners and assign them a weighted vote\n",
    "* classification: predict the class that gets the most weighted votes\n",
    "\n",
    "Advantages:\n",
    "* simple (few parameters)\n",
    "* robust to noisy training\n",
    "* performs well in practice\n",
    "\n",
    "Disadvantages:\n",
    "* needs a termination condition (requires meta-optimisation)\n",
    "* sensitive to outliers"
   ]
  },
  {
   "cell_type": "markdown",
   "metadata": {},
   "source": [
    "## Classification\n",
    "\n",
    "Given a dataset like the following:"
   ]
  },
  {
   "cell_type": "code",
   "execution_count": 1,
   "metadata": {},
   "outputs": [
    {
     "data": {
      "image/png": "[encoded data removed]",
      "text/plain": [
       "<Figure size 360x360 with 1 Axes>"
      ]
     },
     "metadata": {
      "needs_background": "light"
     },
     "output_type": "display_data"
    }
   ],
   "source": [
    "import pandas as pd\n",
    "import matplotlib.pyplot as plt\n",
    "d = pd.DataFrame({\n",
    "    'X1': [-1, 0, 0, 1, 1, 1, 2, 2],\n",
    "    'X2': [1, 1, 2, -1, 0, 2, 2, 3],\n",
    "    'Y': [0, 1, 0, 0, 1, 1, 0, 1]\n",
    "})\n",
    "X, Y = d[['X1', 'X2']], d['Y']\n",
    "\n",
    "c= ['green' if l == 0 else 'red' for l in Y]\n",
    "fig, ax = plt.subplots(figsize=(5, 5))\n",
    "plt.scatter(X['X1'], X['X2'], color=c)\n",
    "plt.show()"
   ]
  },
  {
   "cell_type": "markdown",
   "metadata": {},
   "source": [
    "we can use `AdaBoostClassifier` from `sklearn.ensemble` to classify the point at (0, 0) using 5 weak learners with:"
   ]
  },
  {
   "cell_type": "code",
   "execution_count": 2,
   "metadata": {},
   "outputs": [
    {
     "data": {
      "text/plain": [
       "array([1])"
      ]
     },
     "execution_count": 2,
     "metadata": {},
     "output_type": "execute_result"
    }
   ],
   "source": [
    "from sklearn.ensemble import AdaBoostClassifier\n",
    "ab = AdaBoostClassifier(n_estimators=5).fit(X, Y)\n",
    "ab.predict([[0, 0]])"
   ]
  },
  {
   "cell_type": "markdown",
   "metadata": {},
   "source": [
    "We can visualise the decision surface using `matplotlib`:"
   ]
  },
  {
   "cell_type": "code",
   "execution_count": 3,
   "metadata": {},
   "outputs": [
    {
     "data": {
      "image/png": "[encoded data removed]",
      "text/plain": [
       "<Figure size 432x432 with 1 Axes>"
      ]
     },
     "metadata": {
      "needs_background": "light"
     },
     "output_type": "display_data"
    }
   ],
   "source": [
    "from tools.plots import plot_decision_surface\n",
    "knn = AdaBoostClassifier(n_estimators=5).fit(X, Y)\n",
    "plot_decision_surface(knn, X, Y)"
   ]
  },
  {
   "cell_type": "markdown",
   "metadata": {},
   "source": [
    "In the particular case where the number of estimators is 1, the decision surface corresponds of a simple decision tree with a single split (usually called a decision stump):"
   ]
  },
  {
   "cell_type": "code",
   "execution_count": 4,
   "metadata": {},
   "outputs": [
    {
     "data": {
      "image/png": "[encoded data removed]",
      "text/plain": [
       "<Figure size 432x432 with 1 Axes>"
      ]
     },
     "metadata": {
      "needs_background": "light"
     },
     "output_type": "display_data"
    }
   ],
   "source": [
    "knn = AdaBoostClassifier(n_estimators=1).fit(X, Y)\n",
    "plot_decision_surface(knn, X, Y)"
   ]
  },
  {
   "cell_type": "markdown",
   "metadata": {},
   "source": [
    "## Accuracy\n",
    "\n",
    "Training and cross-validation can be performed just like for any algorithm, using `AdaBoostClassifier.score()` and `sklearn.model_selection.LeaveOneOut`."
   ]
  },
  {
   "cell_type": "markdown",
   "metadata": {},
   "source": [
    "# Agglomerative hierarchical clustering\n",
    "\n",
    "A quick reminder on how agglomerative hierarchical clustering works: https://youtu.be/OcoE7JlbXvY\n",
    "\n",
    "Goal:\n",
    "* similar objects in same group\n",
    "* dissimilar objects in different groups\n",
    "\n",
    "Approach:\n",
    "* form all possible singleton clusters (each containing a single object);\n",
    "* greedily combine clusters with \"maximum similarity\" (or \"minimum distance\") together into a new cluster;\n",
    "* continue until all objects are contained in a single cluster.\n",
    "\n",
    "Different types of similarity:\n",
    "* *single link* - similarity of two clusters considered for merging is determined by the two most similar members of the two clusters;\n",
    "* *complete link* - similarity of two clusters is determined by the two least similar members of the two clusters;\n",
    "* *group average* - similarity is determined by the average similarity between all members of the clusters considered."
   ]
  },
  {
   "cell_type": "markdown",
   "metadata": {},
   "source": [
    " Considering the following uni-dimensional dataset:"
   ]
  },
  {
   "cell_type": "code",
   "execution_count": 5,
   "metadata": {},
   "outputs": [],
   "source": [
    "d = pd.DataFrame({\n",
    "    'X': [-2.2, -2.0, -0.3, 0.1, 0.2, 0.4, 1.6, 1.7, 1.9, 2.0],\n",
    "})"
   ]
  },
  {
   "cell_type": "markdown",
   "metadata": {},
   "source": [
    "Plotting it with `pyplot` shows roughly three \"natural\" clusters forming:"
   ]
  },
  {
   "cell_type": "code",
   "execution_count": 6,
   "metadata": {},
   "outputs": [
    {
     "data": {
      "image/png": "[encoded data removed]",
      "text/plain": [
       "<Figure size 432x288 with 1 Axes>"
      ]
     },
     "metadata": {
      "needs_background": "light"
     },
     "output_type": "display_data"
    }
   ],
   "source": [
    "import numpy as np\n",
    "plt.scatter(d, np.zeros_like(d))\n",
    "plt.show()"
   ]
  },
  {
   "cell_type": "markdown",
   "metadata": {},
   "source": [
    "Using the `sklearn.cluster` module, we can use the agglomerative cluster algorithm with any of the three similarity (or \"linkage\") functions. For instance, if we want to use single linkage to find 3 clusters in the above dataset, we could run:"
   ]
  },
  {
   "cell_type": "code",
   "execution_count": 7,
   "metadata": {},
   "outputs": [
    {
     "name": "stdout",
     "output_type": "stream",
     "text": [
      "[1 1 0 0 0 0 2 2 2 2]\n"
     ]
    }
   ],
   "source": [
    "from sklearn.cluster import AgglomerativeClustering\n",
    "\n",
    "ac = AgglomerativeClustering(linkage='single', n_clusters=3)\n",
    "clusters = ac.fit_predict(d)\n",
    "\n",
    "print(clusters)"
   ]
  },
  {
   "cell_type": "markdown",
   "metadata": {},
   "source": [
    "We can use colors to represent them in the original scatter plot:"
   ]
  },
  {
   "cell_type": "code",
   "execution_count": 8,
   "metadata": {},
   "outputs": [
    {
     "data": {
      "image/png": "[encoded data removed]",
      "text/plain": [
       "<Figure size 432x288 with 1 Axes>"
      ]
     },
     "metadata": {
      "needs_background": "light"
     },
     "output_type": "display_data"
    }
   ],
   "source": [
    "from matplotlib.colors import ListedColormap\n",
    "c = ListedColormap(['red', 'green', 'blue'])\n",
    "plt.scatter(d, np.zeros_like(d), c=clusters, cmap=c)\n",
    "plt.show()"
   ]
  },
  {
   "cell_type": "markdown",
   "metadata": {},
   "source": [
    "The result reflects the three \"natural\" clusters.\n",
    "\n",
    "However, we do not always know how many clusters to expect. In this case we can simply generate a dendrogram to help us find the optimum number of clusters. For this, we can set the number of clusters to `None` and the distance threshold to 0, which will cause the algorithm to start with singleton clusters (effectively assigning each point to its own cluster) and then aggregating those into larger and larger ones:"
   ]
  },
  {
   "cell_type": "code",
   "execution_count": 9,
   "metadata": {},
   "outputs": [
    {
     "data": {
      "image/png": "[encoded data removed]",
      "text/plain": [
       "<Figure size 432x288 with 1 Axes>"
      ]
     },
     "metadata": {
      "needs_background": "light"
     },
     "output_type": "display_data"
    },
    {
     "data": {
      "image/png": "[encoded data removed]",
      "text/plain": [
       "<Figure size 432x288 with 1 Axes>"
      ]
     },
     "metadata": {
      "needs_background": "light"
     },
     "output_type": "display_data"
    },
    {
     "data": {
      "image/png": "[encoded data removed]",
      "text/plain": [
       "<Figure size 432x288 with 1 Axes>"
      ]
     },
     "metadata": {
      "needs_background": "light"
     },
     "output_type": "display_data"
    }
   ],
   "source": [
    "from tools.plots import plot_dendrogram\n",
    "\n",
    "for linkage in ['single', 'complete', 'average']:\n",
    "    # setting distance_threshold=0 ensures we compute the full tree.\n",
    "    ac = AgglomerativeClustering(linkage=linkage, distance_threshold=0, n_clusters=None)\n",
    "    ac = ac.fit(d)\n",
    "\n",
    "    plot_dendrogram(ac, truncate_mode='level', p=4)\n",
    "    plt.title(f\"{linkage} linkage\")\n",
    "    plt.xlabel(\"Number of points in node (or index of point if no parenthesis).\")\n",
    "    plt.show()"
   ]
  },
  {
   "cell_type": "markdown",
   "metadata": {},
   "source": [
    "From the `scipy` documentation for [hierarchy.dendrogram](https://docs.scipy.org/doc/scipy/reference/generated/scipy.cluster.hierarchy.dendrogram.html#scipy.cluster.hierarchy.dendrogram):\n",
    " > The dendrogram illustrates how each cluster is composed by drawing a U-shaped link between a non-singleton cluster and its children. The top of the U-link indicates a cluster merge. The two legs of the U-link indicate which clusters were merged. The length of the two legs of the U-link represents the distance between the child clusters. It is also the cophenetic distance between original observations in the two children clusters.\n",
    " \n",
    "In our examples above, we can then see that the same thee clusters tend to emerge.\n",
    "\n",
    "We can access the data behind the dendrogram through the `children_` and `distances_` attributes:"
   ]
  },
  {
   "cell_type": "code",
   "execution_count": 12,
   "metadata": {},
   "outputs": [
    {
     "data": {
      "text/plain": [
       "array([[ 6,  7],\n",
       "       [ 3,  4],\n",
       "       [ 8,  9],\n",
       "       [10, 12],\n",
       "       [11,  5],\n",
       "       [ 0,  1],\n",
       "       [ 2, 14],\n",
       "       [16, 13],\n",
       "       [15, 17]])"
      ]
     },
     "execution_count": 12,
     "metadata": {},
     "output_type": "execute_result"
    }
   ],
   "source": [
    "ac = AgglomerativeClustering(linkage='single', distance_threshold=0, n_clusters=None)\n",
    "ac = ac.fit(d)\n",
    "ac.children_"
   ]
  },
  {
   "cell_type": "markdown",
   "metadata": {},
   "source": [
    "`children_` lists the clusters in the order in which they are merged. For instance in the example above, the nodes 6 and 7 were merged first, forming a new cluster 10 (cluster indices start from 0). The second cluster merges 3 and 4 and creates cluster 11 and so on."
   ]
  },
  {
   "cell_type": "code",
   "execution_count": 11,
   "metadata": {},
   "outputs": [
    {
     "data": {
      "text/plain": [
       "array([0.1, 0.1, 0.1, 0.2, 0.2, 0.2, 0.4, 1.2, 1.7])"
      ]
     },
     "execution_count": 11,
     "metadata": {},
     "output_type": "execute_result"
    }
   ],
   "source": [
    "ac.distances_"
   ]
  },
  {
   "cell_type": "markdown",
   "metadata": {},
   "source": [
    "The `distances_` attribute shows the distance for each cluster join from `children_`. For instance, the distance between the first two clusters merged (6 and 7) is 0.1, while the distance between the last two clusters merged (15 and 17) is 1.7."
   ]
  },
  {
   "cell_type": "markdown",
   "metadata": {},
   "source": [
    "The dendrogram can help us find the natural clusters by finding biggest distance between two consecutive merges. If we look at the `distances_` attribute, we can see that the largest \"jump\" is from 0.4 to 1.2 ($1.2-0.4=0.8$ is the largest difference between two consecutive numbers). This means that the last two merges bring together rather distant clusters, so if we skip the last two merges, we end up with 3 clusters, as expected."
   ]
  }
 ],
 "metadata": {
  "kernelspec": {
   "display_name": "Python 3",
   "language": "python",
   "name": "python3"
  },
  "language_info": {
   "codemirror_mode": {
    "name": "ipython",
    "version": 3
   },
   "file_extension": ".py",
   "mimetype": "text/x-python",
   "name": "python",
   "nbconvert_exporter": "python",
   "pygments_lexer": "ipython3",
   "version": "3.8.5"
  }
 },
 "nbformat": 4,
 "nbformat_minor": 4
}
